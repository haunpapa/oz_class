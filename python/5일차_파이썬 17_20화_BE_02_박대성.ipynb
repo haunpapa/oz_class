{
  "nbformat": 4,
  "nbformat_minor": 0,
  "metadata": {
    "colab": {
      "provenance": [],
      "include_colab_link": true
    },
    "kernelspec": {
      "name": "python3",
      "display_name": "Python 3"
    },
    "language_info": {
      "name": "python"
    }
  },
  "cells": [
    {
      "cell_type": "markdown",
      "metadata": {
        "id": "view-in-github",
        "colab_type": "text"
      },
      "source": [
        "<a href=\"https://colab.research.google.com/github/haunpapa/oz_class/blob/main/5%EC%9D%BC%EC%B0%A8_%ED%8C%8C%EC%9D%B4%EC%8D%AC%2017_20%ED%99%94_BE_02_%EB%B0%95%EB%8C%80%EC%84%B1.ipynb\" target=\"_parent\"><img src=\"https://colab.research.google.com/assets/colab-badge.svg\" alt=\"Open In Colab\"/></a>"
      ]
    },
    {
      "cell_type": "markdown",
      "source": [
        "안녕하세요. 수강생 여러분~! Chapter17 ~ 20 수업은 잘 들으셨나요?\n",
        "\n",
        "Chapter17 ~ 20의 수업 내용을 바탕으로 아래 문제를 풀어주시면 됩니다.\n",
        "\n",
        "####**제출 방법 안내**\n",
        "상단 파일명(4일차_파이썬17_20화.ipynb)을 5일차_파이썬17_20화_000(본인이름).ipynb로 변경후 아래 링크로 접속 후 본인 이름의 폴더에 제출해주면 됩니다.\n",
        "\n",
        "제출 링크 :\n",
        "\n",
        "####**답변 입력 방법 안내**\n",
        "\"답변\"이라고 적힌란을 마우스로 더블 클릭하시면 글을 작성할 수 있습니다.\n",
        "\n",
        "텍스트에 글을 더 잘 작성하기 위해서는 마크다운 언어를 공부하시면 됩니다.\n",
        "\n",
        "**(구글 검색 창에 \"코랩 마크다운\" 검색)**"
      ],
      "metadata": {
        "id": "aLkxKxnFLowa"
      }
    },
    {
      "cell_type": "markdown",
      "source": [
        "문제1  \n",
        "\n",
        "print_even 리스트 내에 있는 값 중 짝수만 화면에 출력되도록 print_score 함수를 생성 후 결과값을 출력해주세요\n",
        "\n",
        "print_even ([1, 3, 2, 10, 12, 11, 15])"
      ],
      "metadata": {
        "id": "pYJ1dSggLwcG"
      }
    },
    {
      "cell_type": "code",
      "execution_count": 12,
      "metadata": {
        "id": "PTqEeebbLmCA",
        "outputId": "cdb4b5d6-761f-4fb5-8c96-a25c0d02063c",
        "colab": {
          "base_uri": "https://localhost:8080/"
        }
      },
      "outputs": [
        {
          "output_type": "stream",
          "name": "stdout",
          "text": [
            "2\n",
            "10\n",
            "12\n"
          ]
        }
      ],
      "source": [
        "print_even=([1, 3, 2, 10, 12, 11, 15])\n",
        "\n",
        "def print_score():\n",
        "    i=0\n",
        "    global print_even\n",
        "    for i in range(int(len(print_even))):\n",
        "        if print_even[i]%2 == 0 :\n",
        "            print(print_even[i])\n",
        "\n",
        "\n",
        "print_score()"
      ]
    },
    {
      "cell_type": "markdown",
      "source": [
        "문제2  \n",
        "\n",
        "비어있는 오즈 (oz) 클래스를 \"정의\" 해보세요."
      ],
      "metadata": {
        "id": "ZkGserEsQS0L"
      }
    },
    {
      "cell_type": "code",
      "source": [
        "class OZ :\n",
        "    pass"
      ],
      "metadata": {
        "id": "dJbcWWlwL0iK"
      },
      "execution_count": 13,
      "outputs": []
    },
    {
      "cell_type": "markdown",
      "source": [
        "문제3   \n",
        "\n",
        "오즈(oz) 클래스의 인스턴스를 \"생성\" 하고 이를 coding 변수로 할당해보세요."
      ],
      "metadata": {
        "id": "Ofy86rZfL1Mg"
      }
    },
    {
      "cell_type": "code",
      "source": [
        "class OZ :\n",
        "    pass\n",
        "\n",
        "coding=OZ()\n",
        "isinstance(coding, OZ)\n",
        "\n",
        "\n"
      ],
      "metadata": {
        "id": "5NhWiuULL2Xa",
        "outputId": "842fee10-1cd0-4d5d-dfc8-89de050bcd87",
        "colab": {
          "base_uri": "https://localhost:8080/"
        }
      },
      "execution_count": 21,
      "outputs": [
        {
          "output_type": "execute_result",
          "data": {
            "text/plain": [
              "True"
            ]
          },
          "metadata": {},
          "execution_count": 21
        }
      ]
    },
    {
      "cell_type": "markdown",
      "source": [
        "문제4  \n",
        "\n",
        "오즈(oz) 클래스에 \"클래스 정복\"을 출력하는 기본 생성자를 추가해주세요"
      ],
      "metadata": {
        "id": "5T6EMx8EL26b"
      }
    },
    {
      "cell_type": "code",
      "source": [
        "class OZ :\n",
        "    def greeting(self) :\n",
        "        print('클래스정복')\n",
        "\n",
        "박대성=OZ()\n",
        "박대성.greeting()\n"
      ],
      "metadata": {
        "id": "Zq35PXA0L3-m",
        "outputId": "56c1d614-1d5c-49a7-841f-2f31ba76690e",
        "colab": {
          "base_uri": "https://localhost:8080/"
        }
      },
      "execution_count": 23,
      "outputs": [
        {
          "output_type": "stream",
          "name": "stdout",
          "text": [
            "클래스정복\n"
          ]
        }
      ]
    },
    {
      "cell_type": "markdown",
      "source": [
        "문제5  \n",
        "\n",
        "오즈 (oz) 클래스에 (이름, 나이, 코딩레벨)을 받는 생성자를 추가해주세요\n",
        "\n",
        "coding = oz(\"김코\", 30, \"A\")\n"
      ],
      "metadata": {
        "id": "htuycQWSL4l-"
      }
    },
    {
      "cell_type": "code",
      "source": [
        "class OZ:\n",
        "    def __init__(self,이름,나이,코딩레벨):\n",
        "       self.name = 이름\n",
        "       self.age = 나이\n",
        "       self.level = 코딩레벨\n",
        "\n",
        "    def input(self,이름,나이,코딩레벨):\n",
        "        print(oz.name,oz.age,oz.level)\n",
        "\n",
        "coding=OZ('김코',30,'A')\n"
      ],
      "metadata": {
        "id": "A7h3I8CWL5ox"
      },
      "execution_count": 35,
      "outputs": []
    },
    {
      "cell_type": "markdown",
      "source": [
        "문제6\n",
        "\n",
        "5번 문제에서 생성한 인스턴스의 이름, 나이, 성별을 출력해주세요.\n",
        "인스턴스 변수에 접근하여 값을 출력하면 됩니다  : )\n",
        "\n",
        "출력 결과  \n",
        "이름 : 김코  \n",
        "나이 : 30  \n",
        "코딩레벨 : A  "
      ],
      "metadata": {
        "id": "ZGDLHI5xL6Bd"
      }
    },
    {
      "cell_type": "code",
      "source": [
        "class OZ:\n",
        "    def __init__(self,이름,나이,코딩레벨):\n",
        "       self.name = 이름\n",
        "       self.age = 나이\n",
        "       self.level = 코딩레벨\n",
        "\n",
        "    def input(self,이름,나이,코딩레벨):\n",
        "        print(oz.name,oz.age,oz.level)\n",
        "\n",
        "coding=OZ('김코',30,'A')\n",
        "\n",
        "print('이름 :',coding.name )\n",
        "print('나이 :',coding.age )\n",
        "print('코딩레벨 :',coding.level )"
      ],
      "metadata": {
        "id": "qCrPejI_L8Wr",
        "outputId": "43bb7a4c-79fc-4f59-cb11-065a5779f7b9",
        "colab": {
          "base_uri": "https://localhost:8080/"
        }
      },
      "execution_count": 36,
      "outputs": [
        {
          "output_type": "stream",
          "name": "stdout",
          "text": [
            "이름 : 김코\n",
            "나이 : 30\n",
            "코딩레벨 : A\n"
          ]
        }
      ]
    },
    {
      "cell_type": "markdown",
      "source": [
        "뮨제7  \n",
        "\n",
        "오즈 (oz) 클래스에서 이름, 나이, 성별을 출력하는 who() 메소드를 추가하고 who()메소드를 이용해 아래 출력 결과를 만들어주세요\n",
        "\n",
        "\n",
        "출력 결과 : 이름: 김코, 나이: 30, 코딩레벨: A"
      ],
      "metadata": {
        "id": "RmtPk-A1L8z4"
      }
    },
    {
      "cell_type": "code",
      "source": [
        "class OZ:\n",
        "    def __init__(self,이름,나이,코딩레벨,성별):\n",
        "       self.name = 이름\n",
        "       self.age = 나이\n",
        "       self.level = 코딩레벨\n",
        "       self.sex = 성별\n",
        "\n",
        "    def input(self,이름,나이,코딩레벨,성별):\n",
        "        print(oz.name,oz.age,oz.level,age.sex)\n",
        "\n",
        "    def who(self):\n",
        "        print('이름 :',coding.name )\n",
        "        print('나이 :',coding.age )\n",
        "        print('코딩레벨 :',coding.level )\n",
        "        print('성별 :',coding.sex)\n",
        "\n",
        "coding=OZ('김코',30,'A','남자')\n",
        "\n",
        "coding.who()"
      ],
      "metadata": {
        "id": "fvrvm87vL_HZ",
        "outputId": "e9404fe2-4f64-4c1f-e3fb-7c8d87c76356",
        "colab": {
          "base_uri": "https://localhost:8080/"
        }
      },
      "execution_count": 45,
      "outputs": [
        {
          "output_type": "stream",
          "name": "stdout",
          "text": [
            "이름 : 김코\n",
            "나이 : 30\n",
            "코딩레벨 : A\n",
            "성별 : 남자\n"
          ]
        }
      ]
    }
  ]
}