{
  "nbformat": 4,
  "nbformat_minor": 0,
  "metadata": {
    "colab": {
      "provenance": [],
      "include_colab_link": true
    },
    "kernelspec": {
      "name": "python3",
      "display_name": "Python 3"
    },
    "language_info": {
      "name": "python"
    }
  },
  "cells": [
    {
      "cell_type": "markdown",
      "metadata": {
        "id": "view-in-github",
        "colab_type": "text"
      },
      "source": [
        "<a href=\"https://colab.research.google.com/github/haunpapa/oz_class/blob/main/4%EC%9D%BC%EC%B0%A8_%ED%8C%8C%EC%9D%B4%EC%8D%AC14_16%ED%99%94_BE_02_%EB%B0%95%EB%8C%80%EC%84%B1.ipynb\" target=\"_parent\"><img src=\"https://colab.research.google.com/assets/colab-badge.svg\" alt=\"Open In Colab\"/></a>"
      ]
    },
    {
      "cell_type": "markdown",
      "source": [
        "안녕하세요. 수강생 여러분~! Chapter14 ~ 16 수업은 잘 들으셨나요?\n",
        "\n",
        "Chapter14 ~ 16의 수업 내용을 바탕으로 아래 문제를 풀어주시면 됩니다.\n",
        "\n",
        "####**제출 방법 안내**\n",
        "상단 파일명(4일차_파이썬14_16화.ipynb)을 4일차_파이썬14_16화_000(본인이름).ipynb로 변경후 아래 링크로 접속 후 본인 이름의 폴더에 제출해주면 됩니다.\n",
        "\n",
        "제출 링크 :\n",
        "\n",
        "####**답변 입력 방법 안내**\n",
        "\"답변\"이라고 적힌란을 마우스로 더블 클릭하시면 글을 작성할 수 있습니다.\n",
        "\n",
        "텍스트에 글을 더 잘 작성하기 위해서는 마크다운 언어를 공부하시면 됩니다.\n",
        "\n",
        "**(구글 검색 창에 \"코랩 마크다운\" 검색)**"
      ],
      "metadata": {
        "id": "BX7SgOeWu86I"
      }
    },
    {
      "cell_type": "markdown",
      "source": [
        "##문제1\n",
        "\n",
        "주어진 정수 x와 자연수 n을 이용해, x부터 시작해 x씩 증가하는 숫자를 n개 지니는 리스트를 출력해주세요   \n",
        "\n",
        "x = 2, n =5"
      ],
      "metadata": {
        "id": "7kQJMRuFu-6s"
      }
    },
    {
      "cell_type": "code",
      "execution_count": 1,
      "metadata": {
        "id": "juUF2KYbu0DX",
        "colab": {
          "base_uri": "https://localhost:8080/"
        },
        "outputId": "c16538cb-b080-4989-ff42-b6b4d8d416b6"
      },
      "outputs": [
        {
          "output_type": "stream",
          "name": "stdout",
          "text": [
            "[2, 4, 6, 8, 10]\n"
          ]
        }
      ],
      "source": [
        "x = 2\n",
        "n = 5\n",
        "\n",
        "num_list = [i * x for i in range(1, n + 1)]\n",
        "print(num_list)"
      ]
    },
    {
      "cell_type": "markdown",
      "source": [
        "##문제2\n",
        "\n",
        "전화번호가 문자열 phone_number로 주어졌을 때, 전화번호의 뒷 4자리를 *으로 가린 문자열이 출력되도록 코드를 작성해주세요\n",
        "\n",
        "phone_number = \"01012347890\"  \n",
        "\n",
        "출력 예시 : \"0101234****\""
      ],
      "metadata": {
        "id": "4BPXMLXUvBVL"
      }
    },
    {
      "cell_type": "code",
      "source": [
        "phone_number = \"01012347890\"\n",
        "masked_number = \"\"\n",
        "\n",
        "i = 0\n",
        "while i < len(phone_number):\n",
        "    if i < len(phone_number) - 4:\n",
        "        masked_number += phone_number[i]\n",
        "    else:\n",
        "        masked_number += \"*\"\n",
        "    i += 1\n",
        "\n",
        "print(masked_number)"
      ],
      "metadata": {
        "id": "P0fY7CYUvC_j",
        "colab": {
          "base_uri": "https://localhost:8080/"
        },
        "outputId": "502cadc9-63c1-478a-8b7b-0a013691b6c8"
      },
      "execution_count": 11,
      "outputs": [
        {
          "output_type": "stream",
          "name": "stdout",
          "text": [
            "0101234****\n"
          ]
        }
      ]
    },
    {
      "cell_type": "markdown",
      "source": [
        "##문제3\n",
        "\n",
        "숫자를 건넬 때 일부 자릿수를 영단어로 바꾼 카드를 건네주면 프로도는 원래 숫자를 찾는 게임입니다.\n",
        "\n",
        "다음은 숫자의 일부 자릿수를 영단어로 바꾸는 예시입니다.\n",
        "\n",
        "1478 → \"one4seveneight\"  \n",
        "234567 → \"23four5six7\"  \n",
        "10203 → \"1zerotwozero3\"    \n",
        "\n",
        "이렇게 숫자의 일부 자릿수가 영단어로 바뀌어졌거나,   \n",
        "혹은 바뀌지 않고 그대로인 문자열 s가 주어졌을때\n",
        "s가 의미하는 원래 숫자를 출력하도록 코드를 작성해주세요\n",
        "\n",
        "s = \"77three4one\n",
        "\n",
        "---\n",
        "참고로 각 숫자에 대응되는 영단어는 다음 표와 같습니다.\n",
        "\n",
        "숫자\t영단어  \n",
        "0\tzero  \n",
        "1\tone  \n",
        "2\ttwo  \n",
        "3\tthree  \n",
        "4\tfour  \n",
        "5\tfive  \n",
        "6\tsix  \n",
        "7\tseven  \n",
        "8\teight  \n",
        "9\tnine  "
      ],
      "metadata": {
        "id": "uUdOU9cFvDsq"
      }
    },
    {
      "cell_type": "code",
      "source": [
        "s='77three4one'\n",
        "\n",
        "num_dict = {\"zero\": '0', \"one\": '1' , \"two\": '2', \"three\": '3', \"four\": '4',\n",
        "            \"five\": '5', \"six\": '6', \"seven\": '7', \"eight\": '8', \"nine\": '9'}\n",
        "\n",
        "for word, num in num_dict.items():\n",
        "    s = s.replace(word, num)\n",
        "\n",
        "print(s)\n",
        "\n"
      ],
      "metadata": {
        "id": "2NmqRFgDvFtz",
        "outputId": "da1a111a-b5fc-4ad2-af7e-d5ac01a4e8c4",
        "colab": {
          "base_uri": "https://localhost:8080/"
        }
      },
      "execution_count": 15,
      "outputs": [
        {
          "output_type": "stream",
          "name": "stdout",
          "text": [
            "77341\n"
          ]
        }
      ]
    },
    {
      "cell_type": "markdown",
      "source": [
        "##문제4\n",
        "\n",
        "행렬의 덧셈은 행과 열의 크기가 같은 두 행렬의 같은 행, 같은 열의 값을 서로 더한 결과가 됩니다. 2개의 행렬 arr1과 arr2가 주어졌을 때, 행렬 덧셈의 결과를 출력하는 코드를 작성해주세요(result와 같은 결과가 출력되도록 작성)\n",
        "\n",
        "arr1 = [[1,2],[2,3]]\n",
        "\n",
        "arr2 = [[3,4],[5,6]]\n",
        "\n",
        "result = [[4,6],[7,9]]"
      ],
      "metadata": {
        "id": "J0Tha6AdvGL3"
      }
    },
    {
      "cell_type": "code",
      "source": [
        "arr1 = [[1,2],[2,3]]\n",
        "\n",
        "arr2 = [[3,4],[5,6]]\n",
        "\n",
        "result = [[a + b for a, b in zip(a, b)] for a, b in zip(arr1, arr2)]\n",
        "\n",
        "print(result)"
      ],
      "metadata": {
        "id": "ujiXrEhJvIV0",
        "outputId": "b1ccd61f-2fae-466b-bc5a-83c38fe37bb7",
        "colab": {
          "base_uri": "https://localhost:8080/"
        }
      },
      "execution_count": 23,
      "outputs": [
        {
          "output_type": "stream",
          "name": "stdout",
          "text": [
            "[[4, 6], [7, 9]]\n"
          ]
        }
      ]
    },
    {
      "cell_type": "markdown",
      "source": [
        "##문제5\n",
        "\n",
        "양의 정수 x가 하샤드 수이려면 x의 자릿수의 합으로 x가 나누어져야 합니다.   \n",
        "예를 들어 18의 자릿수 합은 1+8=9이고, 18은 9로 나누어 떨어지므로 18은 하샤드 수입니다.   \n",
        "주어진 x를 이용해 x가 하샤드 수인지 아닌지 검사하는 코드를 작성해주세요\n",
        "\n",
        "x = 17\n",
        "\n",
        "----\n",
        "\n",
        "입출력 예시\n",
        "x\t결과값  \n",
        "10\ttrue  \n",
        "12\ttrue  \n",
        "11\tfalse  \n",
        "13\tfalse  "
      ],
      "metadata": {
        "id": "eLdrWVkavJEN"
      }
    },
    {
      "cell_type": "code",
      "source": [
        "x = 17\n",
        "sum_x = 0\n",
        "while x != 0:\n",
        "   sum_x += x % 10\n",
        "   x = x // 10\n",
        "print(sum_x)\n",
        "\n",
        "is_sum_x = sum_x % 9 == 0\n",
        "print(is_sum_x)"
      ],
      "metadata": {
        "id": "EULD-IOrvKmG",
        "outputId": "18ed327f-3dc9-42a9-e4bb-fc599d20a986",
        "colab": {
          "base_uri": "https://localhost:8080/"
        }
      },
      "execution_count": 21,
      "outputs": [
        {
          "output_type": "stream",
          "name": "stdout",
          "text": [
            "8\n",
            "False\n"
          ]
        }
      ]
    },
    {
      "cell_type": "markdown",
      "source": [
        "##문제6\n",
        "\n",
        "String형 배열 seoul의 element중 \"Kim\"의 인덱스 x를 찾아, \"김서방은 x에 있다\"는 String을 출력하는 코드를 작성해주세요.   \n",
        "\n",
        "seoul에 \"Kim\"은 오직 한 번만 나타나며 잘못된 값이 입력되는 경우는 없습니다.\n",
        "\n",
        "seoul = [\"Jane\", \"Kim\"]\n",
        "\n",
        "결과\n",
        "\"김서방은 1에 있다\""
      ],
      "metadata": {
        "id": "GeS6hZhivLMZ"
      }
    },
    {
      "cell_type": "code",
      "source": [
        "seoul = [\"Jane\", \"Kim\"]\n",
        "for i in range(len(seoul)) :\n",
        "    if seoul[i] == \"kim\" :\n",
        "        break\n",
        "print(f'김서방은 {i}에 있다')\n",
        "\n"
      ],
      "metadata": {
        "id": "e4LXat3BvRRg",
        "outputId": "eb04460c-19bc-4f4b-a125-7bdab99daece",
        "colab": {
          "base_uri": "https://localhost:8080/"
        }
      },
      "execution_count": 58,
      "outputs": [
        {
          "output_type": "stream",
          "name": "stdout",
          "text": [
            "김서방은 1에 있다\n"
          ]
        }
      ]
    },
    {
      "cell_type": "markdown",
      "source": [
        "##문제7\n",
        "\n",
        "0부터 9까지의 숫자 중 일부가 들어있는 정수 배열 numbers가 주어집니다.   \n",
        "numbers에서 찾을 수 없는 0부터 9까지의 숫자를 모두 찾아 더한 수를 출력해주세요\n",
        "\n",
        "numbers = [5,8,1,0,6,9]"
      ],
      "metadata": {
        "id": "iZjKl-ZqvOkm"
      }
    },
    {
      "cell_type": "code",
      "source": [
        "numbers = [5,8,1,0,6,9]\n",
        "result_sum=0\n",
        "for i in range(10) :\n",
        "    if i not in numbers :\n",
        "       result_sum=result_sum + i\n",
        "    else :\n",
        "        result_sum\n",
        "print(result_sum)"
      ],
      "metadata": {
        "id": "598DAkIHvQav",
        "outputId": "d14e5bae-cd25-4fd4-e7b1-223b77373c41",
        "colab": {
          "base_uri": "https://localhost:8080/"
        }
      },
      "execution_count": 29,
      "outputs": [
        {
          "output_type": "stream",
          "name": "stdout",
          "text": [
            "16\n"
          ]
        }
      ]
    }
  ]
}