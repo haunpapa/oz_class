{
  "nbformat": 4,
  "nbformat_minor": 0,
  "metadata": {
    "colab": {
      "provenance": [],
      "authorship_tag": "ABX9TyPtQ+MDKOqp0rYFRCLPvCnS",
      "include_colab_link": true
    },
    "kernelspec": {
      "name": "python3",
      "display_name": "Python 3"
    },
    "language_info": {
      "name": "python"
    }
  },
  "cells": [
    {
      "cell_type": "markdown",
      "metadata": {
        "id": "view-in-github",
        "colab_type": "text"
      },
      "source": [
        "<a href=\"https://colab.research.google.com/github/haunpapa/oz_class/blob/main/HdfTML.ipynb\" target=\"_parent\"><img src=\"https://colab.research.google.com/assets/colab-badge.svg\" alt=\"Open In Colab\"/></a>"
      ]
    },
    {
      "cell_type": "markdown",
      "source": [
        "#웹사이트를 만들때 반드시 필요한 언어가 바로 HTML & CSS\n",
        "- 웹페이지 만드는 기술을 배우는것 ,\n",
        "\n",
        "#HTML : HyperText Markup Language\n",
        "- HyperText : 하이퍼 링크를 통해 어떤 문서에서 다른 문서로 접근할 수 있는 텍스트\n",
        "- Markup : 콘텐츠를 표시하다\n",
        "\n",
        "- => 하이퍼 텍스트와 콘텐츠를 표시해주는 언어 !\n",
        " 쉽게 말해 웹페이지의 콘텐츠를 정의하기 이해 사용하는 언어\n",
        "\n",
        "\n",
        "#HTML 문서\n",
        "- HTML 코드는 결국 텍스트. 열리는 응용프로그램에 따라 다른 형태로 열린다.\n",
        "    - 편집기, 랜더링페이지(크롬,등등)\n",
        "\n",
        "\n",
        "   \n"
      ],
      "metadata": {
        "id": "-6sVlICnabtT"
      }
    },
    {
      "cell_type": "code",
      "execution_count": null,
      "metadata": {
        "id": "OOs29duhaBPW"
      },
      "outputs": [],
      "source": []
    },
    {
      "cell_type": "markdown",
      "source": [],
      "metadata": {
        "id": "FFjTCrnMaahz"
      }
    }
  ]
}