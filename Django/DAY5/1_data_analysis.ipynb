{
  "nbformat": 4,
  "nbformat_minor": 0,
  "metadata": {
    "colab": {
      "provenance": [],
      "authorship_tag": "ABX9TyO1WxjwPQJtSz2QunNDCfcF",
      "include_colab_link": true
    },
    "kernelspec": {
      "name": "python3",
      "display_name": "Python 3"
    },
    "language_info": {
      "name": "python"
    }
  },
  "cells": [
    {
      "cell_type": "markdown",
      "metadata": {
        "id": "view-in-github",
        "colab_type": "text"
      },
      "source": [
        "<a href=\"https://colab.research.google.com/github/haunpapa/oz_class/blob/main/Django/DAY5/1_data_analysis.ipynb\" target=\"_parent\"><img src=\"https://colab.research.google.com/assets/colab-badge.svg\" alt=\"Open In Colab\"/></a>"
      ]
    },
    {
      "cell_type": "markdown",
      "source": [
        "## 1. Numpy\n",
        "\n",
        "    - 파이썬에서 수학적인 계산(행렬,벡터,자원)을 편하게 할 수 있도록 돕는 라이브러리"
      ],
      "metadata": {
        "id": "Qo-oXd5iSOfN"
      }
    },
    {
      "cell_type": "code",
      "source": [
        "%pip install numpy"
      ],
      "metadata": {
        "colab": {
          "base_uri": "https://localhost:8080/"
        },
        "id": "gUblbp5sSVAI",
        "outputId": "48be7fb8-c129-4248-95b6-8e73dca546dd"
      },
      "execution_count": 1,
      "outputs": [
        {
          "output_type": "stream",
          "name": "stdout",
          "text": [
            "Requirement already satisfied: numpy in /usr/local/lib/python3.10/dist-packages (1.25.2)\n"
          ]
        }
      ]
    },
    {
      "cell_type": "code",
      "source": [
        "import numpy as np\n"
      ],
      "metadata": {
        "id": "FO_yTW5ZSlWT"
      },
      "execution_count": 2,
      "outputs": []
    },
    {
      "cell_type": "code",
      "source": [
        "# 1차원 행렬\n",
        "arr1 = np.array([1,2,3])\n",
        "\n",
        "arr1\n",
        "type(arr1)\n",
        "arr1.shape\n",
        "arr1.ndim"
      ],
      "metadata": {
        "colab": {
          "base_uri": "https://localhost:8080/"
        },
        "id": "p4qiihWJS3kh",
        "outputId": "2bd7b4a5-0249-40ae-c336-d50101372063"
      },
      "execution_count": 6,
      "outputs": [
        {
          "output_type": "execute_result",
          "data": {
            "text/plain": [
              "1"
            ]
          },
          "metadata": {},
          "execution_count": 6
        }
      ]
    },
    {
      "cell_type": "code",
      "source": [
        "# 2차원 배열\n",
        "arr2 = np.array([[1,2,3],[4,5,6]])\n",
        "\n",
        "arr2\n",
        "arr2.shape\n",
        "arr2.ndim\n"
      ],
      "metadata": {
        "colab": {
          "base_uri": "https://localhost:8080/"
        },
        "id": "D9I2qdXJTBnO",
        "outputId": "f5aa7dde-3ed4-4a63-f50e-f74d178b3268"
      },
      "execution_count": 9,
      "outputs": [
        {
          "output_type": "execute_result",
          "data": {
            "text/plain": [
              "2"
            ]
          },
          "metadata": {},
          "execution_count": 9
        }
      ]
    },
    {
      "cell_type": "code",
      "source": [
        "#ndarray 데이터 타입\n",
        "\n",
        "arr3 =['1','2','3']\n",
        "\n",
        "arr3 = np.array(arr3)\n",
        "arr3 = arr3.astype(np.int64)\n",
        "arr3.dtype"
      ],
      "metadata": {
        "colab": {
          "base_uri": "https://localhost:8080/"
        },
        "id": "ihZ6AXOjTZmN",
        "outputId": "836850cc-0ae8-427a-d900-e87bb36afb0a"
      },
      "execution_count": 16,
      "outputs": [
        {
          "output_type": "execute_result",
          "data": {
            "text/plain": [
              "dtype('int64')"
            ]
          },
          "metadata": {},
          "execution_count": 16
        }
      ]
    },
    {
      "cell_type": "code",
      "source": [
        "# ndarray 생성\n",
        "arr = np.arange(10)\n",
        "\n",
        "arr > 5\n",
        "arr[arr>5]"
      ],
      "metadata": {
        "colab": {
          "base_uri": "https://localhost:8080/"
        },
        "id": "Es0tO7ChWADk",
        "outputId": "43502d0a-d1aa-4ae0-b768-8e5cabe4db61"
      },
      "execution_count": 21,
      "outputs": [
        {
          "output_type": "execute_result",
          "data": {
            "text/plain": [
              "array([6, 7, 8, 9])"
            ]
          },
          "metadata": {},
          "execution_count": 21
        }
      ]
    },
    {
      "cell_type": "code",
      "source": [
        "np.zeros((3,2))\n",
        "np.ones((3,2))\n",
        "np.ones((10,10))"
      ],
      "metadata": {
        "colab": {
          "base_uri": "https://localhost:8080/"
        },
        "id": "3sAKgeMVWbhd",
        "outputId": "8cba2746-c321-4c40-b7d6-d791152863ed"
      },
      "execution_count": 27,
      "outputs": [
        {
          "output_type": "execute_result",
          "data": {
            "text/plain": [
              "array([[1., 1., 1., 1., 1., 1., 1., 1., 1., 1.],\n",
              "       [1., 1., 1., 1., 1., 1., 1., 1., 1., 1.],\n",
              "       [1., 1., 1., 1., 1., 1., 1., 1., 1., 1.],\n",
              "       [1., 1., 1., 1., 1., 1., 1., 1., 1., 1.],\n",
              "       [1., 1., 1., 1., 1., 1., 1., 1., 1., 1.],\n",
              "       [1., 1., 1., 1., 1., 1., 1., 1., 1., 1.],\n",
              "       [1., 1., 1., 1., 1., 1., 1., 1., 1., 1.],\n",
              "       [1., 1., 1., 1., 1., 1., 1., 1., 1., 1.],\n",
              "       [1., 1., 1., 1., 1., 1., 1., 1., 1., 1.],\n",
              "       [1., 1., 1., 1., 1., 1., 1., 1., 1., 1.]])"
            ]
          },
          "metadata": {},
          "execution_count": 27
        }
      ]
    },
    {
      "cell_type": "code",
      "source": [
        "# reshape ==> 차원 변경\n",
        "arr = np.arange(10)\n",
        "\n",
        "arr.reshape(2,5)\n",
        "arr.reshape(5,2)"
      ],
      "metadata": {
        "colab": {
          "base_uri": "https://localhost:8080/"
        },
        "id": "_V8s2ZE-Wuu6",
        "outputId": "8b8c66c0-36cb-41c6-a20a-fd78724c205b"
      },
      "execution_count": 30,
      "outputs": [
        {
          "output_type": "execute_result",
          "data": {
            "text/plain": [
              "array([[0, 1],\n",
              "       [2, 3],\n",
              "       [4, 5],\n",
              "       [6, 7],\n",
              "       [8, 9]])"
            ]
          },
          "metadata": {},
          "execution_count": 30
        }
      ]
    },
    {
      "cell_type": "code",
      "source": [
        "# indexing & slicing\n",
        "arr[0]\n",
        "arr[5:]"
      ],
      "metadata": {
        "colab": {
          "base_uri": "https://localhost:8080/"
        },
        "id": "uJ0lINYhXHMH",
        "outputId": "6b2b0db6-8a3f-4ad1-9c1e-d77d54035725"
      },
      "execution_count": 33,
      "outputs": [
        {
          "output_type": "execute_result",
          "data": {
            "text/plain": [
              "array([5, 6, 7, 8, 9])"
            ]
          },
          "metadata": {},
          "execution_count": 33
        }
      ]
    },
    {
      "cell_type": "code",
      "source": [
        "#numpy 몇가지\n",
        "\n",
        "#1. 2차원 배열에서 행렬의 각 행의 평균을 계산하는 코드를 작성하세요\n",
        "#np.mean()\n",
        "\n",
        "arr = np.array(([1,2,3],[4,5,6],[7,8,9]))\n",
        "\n",
        "arr.shape\n",
        "print(arr)\n",
        "\n",
        "np.mean(arr, axis=1)"
      ],
      "metadata": {
        "colab": {
          "base_uri": "https://localhost:8080/"
        },
        "id": "5D_XcLAVYgJJ",
        "outputId": "5061993e-ea46-4a08-d9c4-512099ddaf76"
      },
      "execution_count": 37,
      "outputs": [
        {
          "output_type": "stream",
          "name": "stdout",
          "text": [
            "[[1 2 3]\n",
            " [4 5 6]\n",
            " [7 8 9]]\n"
          ]
        },
        {
          "output_type": "execute_result",
          "data": {
            "text/plain": [
              "array([2., 5., 8.])"
            ]
          },
          "metadata": {},
          "execution_count": 37
        }
      ]
    },
    {
      "cell_type": "code",
      "source": [
        "# 2. 1차원 배열에서 짝수 인덱스의 값을 출력하는 코드를 작성하세요\n",
        "\n",
        "arr = np.array([1,2,3,4,5,6])\n",
        "\n",
        "even_indexes = np.arange(0,arr.size,2)\n",
        "\n",
        "print(arr[even_indexes])"
      ],
      "metadata": {
        "colab": {
          "base_uri": "https://localhost:8080/"
        },
        "id": "HwblkC3hYv05",
        "outputId": "c8548653-440d-48e7-9777-f0bd0b0ef227"
      },
      "execution_count": 42,
      "outputs": [
        {
          "output_type": "stream",
          "name": "stdout",
          "text": [
            "[1 3 5]\n"
          ]
        }
      ]
    },
    {
      "cell_type": "code",
      "source": [
        "# 3. 2차원 배열의 주 대각선상에 있는 원소들을 출력하는 코드를 작성하세요\n",
        "\n",
        "arr = np.array(([1,2,3],[4,5,6],[7,8,9]))\n",
        "arr.shape\n",
        "\n",
        "#diag\n",
        "np.diag(arr)"
      ],
      "metadata": {
        "colab": {
          "base_uri": "https://localhost:8080/"
        },
        "id": "IqQ-IkNca9Jp",
        "outputId": "ceeb83c3-289f-4292-9f89-0fd18f076f4f"
      },
      "execution_count": 44,
      "outputs": [
        {
          "output_type": "execute_result",
          "data": {
            "text/plain": [
              "array([1, 5, 9])"
            ]
          },
          "metadata": {},
          "execution_count": 44
        }
      ]
    },
    {
      "cell_type": "code",
      "source": [
        "#4 .2차원 배열에서 각 열의 표준편차를 계산하는 코드를 작성하세요\n",
        "# 표준편차 --> np.std()\n",
        "\n",
        "arr = np.array(([1,2,3],[4,5,6],[7,8,9]))\n",
        "\n",
        "print(arr)\n",
        "\n",
        "np.std(arr, axis=0)"
      ],
      "metadata": {
        "colab": {
          "base_uri": "https://localhost:8080/"
        },
        "id": "KmmfTHl3bRBd",
        "outputId": "6fb839f9-e831-43eb-a28e-6d611a8b5da4"
      },
      "execution_count": 47,
      "outputs": [
        {
          "output_type": "stream",
          "name": "stdout",
          "text": [
            "[[1 2 3]\n",
            " [4 5 6]\n",
            " [7 8 9]]\n"
          ]
        },
        {
          "output_type": "execute_result",
          "data": {
            "text/plain": [
              "array([2.44948974, 2.44948974, 2.44948974])"
            ]
          },
          "metadata": {},
          "execution_count": 47
        }
      ]
    },
    {
      "cell_type": "code",
      "source": [
        "#5 . 1차원 배열에서 중앙값(median)을 계산하는 코드를 작성하시오\n",
        "arr = np.array([1,2,3,4,5])\n",
        "\n",
        "np.median(arr)"
      ],
      "metadata": {
        "colab": {
          "base_uri": "https://localhost:8080/"
        },
        "id": "KUwF3AhHeO0B",
        "outputId": "f9361a1b-22ac-453b-91f9-f88060603f76"
      },
      "execution_count": 49,
      "outputs": [
        {
          "output_type": "execute_result",
          "data": {
            "text/plain": [
              "3.0"
            ]
          },
          "metadata": {},
          "execution_count": 49
        }
      ]
    },
    {
      "cell_type": "code",
      "source": [
        "#6 . 1차원 배열에서 원소의 값이 5 이상인 것들만 출력하는 코드를 작성하세요\n",
        "\n",
        "arr = np.array([1,5,9,4,7,2,3,6])\n",
        "\n",
        "arr[arr >= 5]"
      ],
      "metadata": {
        "colab": {
          "base_uri": "https://localhost:8080/"
        },
        "id": "VK_Z7kNfeeYn",
        "outputId": "55a9c8fc-220b-42d1-c447-7ed400a3ccb0"
      },
      "execution_count": 51,
      "outputs": [
        {
          "output_type": "execute_result",
          "data": {
            "text/plain": [
              "array([5, 9, 7, 6])"
            ]
          },
          "metadata": {},
          "execution_count": 51
        }
      ]
    },
    {
      "cell_type": "code",
      "source": [
        "#7 . 1차원 배열에서 원소의 값이 3또는 5 인것들의 인덱스를 출력하는 코드를 작성하세요\n",
        "\n",
        "arr = np.array([1,3,5,7,9,2,5,7,9,3,5])\n",
        "\n",
        "np.where((arr==3)|(arr==5))"
      ],
      "metadata": {
        "colab": {
          "base_uri": "https://localhost:8080/"
        },
        "id": "eFjozChve2S-",
        "outputId": "154c62ae-4964-4956-8a8e-f53ee42abf59"
      },
      "execution_count": 52,
      "outputs": [
        {
          "output_type": "execute_result",
          "data": {
            "text/plain": [
              "(array([ 1,  2,  6,  9, 10]),)"
            ]
          },
          "metadata": {},
          "execution_count": 52
        }
      ]
    }
  ]
}