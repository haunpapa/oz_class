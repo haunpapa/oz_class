{
 "cells": [
  {
   "cell_type": "markdown",
   "metadata": {},
   "source": [
    "예스 24 크롤링"
   ]
  },
  {
   "cell_type": "code",
   "execution_count": 1,
   "metadata": {},
   "outputs": [
    {
     "data": {
      "text/plain": [
       "'/Users/haunpapa/.wdm/drivers/chromedriver/mac64/121.0.6167.85/chromedriver-mac-x64/chromedriver'"
      ]
     },
     "execution_count": 1,
     "metadata": {},
     "output_type": "execute_result"
    }
   ],
   "source": [
    "from webdriver_manager.chrome import ChromeDriverManager\n",
    "ChromeDriverManager().install()\n"
   ]
  },
  {
   "cell_type": "code",
   "execution_count": 2,
   "metadata": {},
   "outputs": [],
   "source": [
    "from selenium import webdriver\n",
    "from selenium.webdriver.chrome.options import Options\n",
    "from selenium.webdriver.common.by import By\n",
    "from selenium.webdriver.common.keys import Keys\n",
    "from bs4 import BeautifulSoup\n",
    "import time\n",
    "browser = webdriver.Chrome()\n",
    "\n",
    "\n"
   ]
  },
  {
   "cell_type": "code",
   "execution_count": 3,
   "metadata": {},
   "outputs": [],
   "source": [
    "url = 'https://kream.co.kr/?tab=home_ranking'\n",
    "browser.get(url)"
   ]
  },
  {
   "cell_type": "code",
   "execution_count": 4,
   "metadata": {},
   "outputs": [
    {
     "name": "stdout",
     "output_type": "stream",
     "text": [
      "['/products/198153', '/products/89214', '/products/168679', '/products/169622', '/products/67945', '/products/154869', '/products/67233', '/products/188494', '/products/155834', '/products/171941', '/products/101838', '/products/117979', '/products/44249', '/products/96478', '/products/193788', '/products/113801', '/products/173409', '/products/233501', '/products/107607', '/products/98429', '/products/204286', '/products/111746', '/products/230471', '/products/170140', '/products/61862', '/products/111525', '/products/96344', '/products/28229', '/products/186921', '/products/25469', '/products/52937', '/products/146207', '/products/98441', '/products/178937', '/products/118745', '/products/45883', '/products/170231', '/products/24137', '/products/82788', '/products/36753', '/products/22181', '/products/202031', '/products/107592', '/products/209171', '/products/216340', '/products/171951', '/products/120449', '/products/210098', '/products/114729', '/products/206329', '/products/230322', '/products/178942', '/products/223707', '/products/79358', '/products/164902', '/products/137797', '/products/13494', '/products/61808', '/products/96172', '/products/190334', '/products/97708', '/products/113639', '/products/65775', '/products/57580', '/products/130348', '/products/231515', '/products/38597', '/products/23509', '/products/70910', '/products/114671', '/products/184786', '/products/86011', '/products/117346', '/products/216183', '/products/29370', '/products/96479', '/products/74712', '/products/218822', '/products/176653', '/products/228343', '/products/107597', '/products/144577', '/products/219459', '/products/130347', '/products/109204', '/products/187442', '/products/41205', '/products/170621', '/products/117344', '/products/84752', '/products/60302', '/products/168701', '/products/177956', '/products/69542', '/products/47881', '/products/191466', '/products/92978', '/products/59968', '/products/225582', '/products/78331']\n"
     ]
    }
   ],
   "source": [
    "html = browser.page_source\n",
    "soup = BeautifulSoup(html,'html.parser')\n",
    "datas = soup.select(\".product_list.list_first.vertical_product_collection\")\n",
    "\n",
    "import time\n",
    "\n",
    "href_list =[]\n",
    "\n",
    "for data in datas:\n",
    "    links = data.select('a')\n",
    "    for link in links:\n",
    "        href = link['href']\n",
    "        href_list.append(href)\n",
    "\n",
    "print(href_list)\n",
    "\n",
    "\n"
   ]
  },
  {
   "cell_type": "code",
   "execution_count": null,
   "metadata": {},
   "outputs": [],
   "source": []
  },
  {
   "cell_type": "code",
   "execution_count": 43,
   "metadata": {},
   "outputs": [
    {
     "name": "stdout",
     "output_type": "stream",
     "text": [
      "159000 0\n",
      "<class 'int'>\n",
      "<class 'int'>\n"
     ]
    }
   ],
   "source": [
    "browser.get(f'https://kream.co.kr{href_list[79]}')\n",
    "\n",
    "brand = browser.find_element(By.CLASS_NAME, 'product-branding-feed-container').find_element(By.CLASS_NAME, 'title-text.display_paragraph.action_url').text\n",
    "main_title = browser.find_element(By.CLASS_NAME, 'main-title-container').find_element(By.CLASS_NAME, 'title').text\n",
    "sub_title = browser.find_element(By.CLASS_NAME, 'main-title-container').find_element(By.CLASS_NAME, 'sub-title').text\n",
    "try :\n",
    "    product_title = browser.find_element(By.CLASS_NAME, 'detail-product-container').find_elements(By.CLASS_NAME, 'product_info')[1].text\n",
    "except :\n",
    "    product_title ='-'\n",
    "\n",
    "try :     \n",
    "    recent_price = browser.find_element(By.CLASS_NAME, 'detail-product-container').find_elements(By.CLASS_NAME, 'price-info')[0].text\n",
    "    recent_price = int(recent_price.replace(\",\",\"\"))\n",
    "except :\n",
    "    recent_price =int(browser.find_element(By.CLASS_NAME, 'price.display_paragraph').text.replace(\",\",\"\")[:-1])\n",
    "\n",
    "try :\n",
    "    launching_price = browser.find_element(By.CLASS_NAME, 'detail-product-container').find_elements(By.CLASS_NAME, 'product_info')[0].text.split(\" \")[2][:-2]\n",
    "    launching_price = int(launching_price.replace(\",\",\"\"))\n",
    "except :\n",
    "    try:\n",
    "        launching_price = browser.find_element(By.CLASS_NAME, 'detail-product-container').find_elements(By.CLASS_NAME, 'product_info')[0].text\n",
    "        launching_price = int(launching_price.replace(\",\",\"\")[:-1] )\n",
    "    except : \n",
    "         launching_price = 0     \n",
    "wish_count = browser.find_element(By.CLASS_NAME, 'wish_count_num').text\n",
    "if '만' in wish_count:\n",
    "    wish_count = wish_count.replace(\"만\",\"\")\n",
    "    if '.' in wish_count :\n",
    "         wish_count = int(wish_count.replace(\".\",\"\")) * 1000\n",
    "    else :\n",
    "                wish_count = int(wish_count)*10000\n",
    "else :\n",
    "    wish_count = int(wish_count.replace(\",\",\"\"))\n",
    "\n",
    "  \n",
    "        \n",
    "print(recent_price,launching_price)\n",
    "print(type(recent_price))\n",
    "print(type(launching_price))\n",
    "\n"
   ]
  },
  {
   "cell_type": "code",
   "execution_count": 8,
   "metadata": {},
   "outputs": [
    {
     "name": "stdout",
     "output_type": "stream",
     "text": [
      "6.8 20\n"
     ]
    }
   ],
   "source": [
    "try :\n",
    "     rating = browser.find_element(By.CLASS_NAME, 'gd_lnkRate').find_element(By.CLASS_NAME, 'yes_b').text\n",
    "except : \n",
    "     rating = 0 \n",
    "\n",
    "try :\n",
    "     review = browser.find_element(By.CLASS_NAME, 'gd_reviewCount').find_element(By.CLASS_NAME, 'txC_blue').text\n",
    "except :\n",
    "     review = 0\n",
    "\n",
    "print(rating, review)\n",
    "\n",
    "\n"
   ]
  },
  {
   "cell_type": "code",
   "execution_count": 46,
   "metadata": {},
   "outputs": [
    {
     "name": "stdout",
     "output_type": "stream",
     "text": [
      "Keen Keen Women Jasper Sneakers Year of The Dragon Blue Green 킨 우먼 재스퍼 스니커즈 이얼 오프 더 드래곤 블루 그린 - 159000 0 581\n",
      "\n",
      "Matin Kim Matin Kim Accordion Wallet White 마뗑킴 아코디언 지갑 화이트 - 76000 88000 2237\n",
      "\n",
      "Nike (W) Nike Cortez Black and White (W) 나이키 코르테즈 블랙 앤 화이트 DZ2795-001 106000 119000 2072\n",
      "\n",
      "COS COS Quilted Micro Bag Dark Blue Denim 코스 퀼티드 마이크로백 다크 블루 데님 1171064013 79000 86200 799\n",
      "\n",
      "COS COS Quilted Nano Bag Beige 코스 퀼티드 나노백 베이지 1186958002/1213817003 86000 39000 3108\n",
      "\n",
      "Stussy Stussy Basic Stussy LS T-Shirt Black 2023 스투시 베이직 스투시 롱슬리브 티셔츠 블랙 2023 1994870 103000 82000 8131\n",
      "\n",
      "Adidas Adidas VL Court Base Cloud White Core Black 아디다스 VL 코트 베이스 클라우드 화이트 코어 블랙 ID3711 61000 0 5016\n",
      "\n",
      "Adidas Adidas Spezial Handball Collegiate Navy 아디다스 스페지알 핸드볼 컬리지에이트 네이비 BD7633 128000 139000 30000\n",
      "\n",
      "Nike Nike NSW Solo Swoosh Woven Track Jacket Black - Asia 나이키 NSW 솔로 스우시 우븐 트랙 자켓 블랙 - 아시아 FB8623-010 144000 175000 14000\n",
      "\n",
      "Puma Puma Speedcat OG Sparco Black White 푸마 스피드캣 OG 스파르코 블랙 화이트 307171-01 155000 139000 4992\n",
      "\n",
      "Clarks (W) Clarks Wallabee Maple Suede (W) 클락스 왈라비 메이플 스웨이드 261-55545 139000 258000 4586\n",
      "\n",
      "Jordan Jordan 1 Retro High OG Bleached Coral 조던 1 레트로 하이 OG 블리치드 코랄 555088-108 240000 209000 38000\n",
      "\n",
      "Adidas Adidas Spezial Handball Scarlet Cloud White 아디다스 스페지알 핸드볼 스칼렛 클라우드 화이트 FV1227 200000 145900 3589\n",
      "\n",
      "Adidas Adidas Originals Beckenbauer Track Jacket Shadow Green - KR Sizing 아디다스 오리지널스 베켄바우어 트랙 자켓 쉐도우 그린 - KR 사이즈 IN1001 126000 118400 6599\n",
      "\n",
      "Miu Miu Miu Miu Matelasse Nappa Leather Card Holder Black 미우 미우 마테라쎄 나파 가죽 카드 홀더 블랙 5MC076-2FPP-F0002 390000 490000 9742\n",
      "\n",
      "Converse Converse Chuck Taylor All Star Ox Black 컨버스 척 테일러 올스타 로우 블랙 M9166C 44000 55000 6073\n",
      "\n",
      "Matin Kim Matin Kim Spell Point Stripe Knit Cardigan Black 마뗑킴 스펠 포인트 스트라이프 가디건 블랙 MK2378CD016MBB 250000 232100 5670\n",
      "\n",
      "Adidas (W) Adidas Gazelle Bold Grey Cloud White (W) 아디다스 가젤 볼드 그레이 클라우드 화이트 HQ6893 100000 139000 17000\n",
      "\n",
      "Nike Nike Dunk Low Retro Valerian Blue 나이키 덩크 로우 레트로 발레리안 블루 DD1391-400 113000 139000 35000\n",
      "\n",
      "Human Made Human Made Military Card Case Black 휴먼 메이드 밀리터리 카드 케이스 블랙 HM27GD029 69000 47200 1039\n",
      "\n",
      "Stussy Stussy Canvas Side Pouch Washed Black 스투시 캔버스 사이드 파우치 워시드 블랙 134255 95000 78000 7354\n",
      "\n"
     ]
    }
   ],
   "source": [
    "# 데이터 베이스 연동후 수집한 데이터 DB에 저장 (csv)\n",
    "import pymysql \n",
    "import re\n",
    "from datetime import datetime\n",
    "\n",
    "\n",
    "conn = pymysql.connect(\n",
    "    host ='localhost',\n",
    "    user = 'root',\n",
    "    password = 'Eotjd0101^^',\n",
    "    db = 'new_project',\n",
    "    charset = 'utf8mb4',\n",
    "    cursorclass = pymysql.cursors.DictCursor\n",
    ")\n",
    "\n",
    "with conn.cursor() as cur :\n",
    "    \n",
    "    for i in href_list[79:]:\n",
    "        browser.get(f'https://kream.co.kr{i}')\n",
    "\n",
    "\n",
    "        brand = browser.find_element(By.CLASS_NAME, 'product-branding-feed-container').find_element(By.CLASS_NAME, 'title-text.display_paragraph.action_url').text\n",
    "        main_title = browser.find_element(By.CLASS_NAME, 'main-title-container').find_element(By.CLASS_NAME, 'title').text\n",
    "        sub_title = browser.find_element(By.CLASS_NAME, 'main-title-container').find_element(By.CLASS_NAME, 'sub-title').text\n",
    "        try :\n",
    "            product_title = browser.find_element(By.CLASS_NAME, 'detail-product-container').find_elements(By.CLASS_NAME, 'product_info')[1].text\n",
    "        except :\n",
    "            product_title ='-'\n",
    "\n",
    "        try :     \n",
    "            recent_price = browser.find_element(By.CLASS_NAME, 'detail-product-container').find_elements(By.CLASS_NAME, 'price-info')[0].text\n",
    "            recent_price = int(recent_price.replace(\",\",\"\"))\n",
    "        except :\n",
    "            recent_price =int(browser.find_element(By.CLASS_NAME, 'price.display_paragraph').text.replace(\",\",\"\")[:-1])\n",
    "\n",
    "        try :\n",
    "            launching_price = browser.find_element(By.CLASS_NAME, 'detail-product-container').find_elements(By.CLASS_NAME, 'product_info')[0].text.split(\" \")[2][:-2]\n",
    "            launching_price = int(launching_price.replace(\",\",\"\"))\n",
    "        except :\n",
    "            try:\n",
    "                launching_price = browser.find_element(By.CLASS_NAME, 'detail-product-container').find_elements(By.CLASS_NAME, 'product_info')[0].text\n",
    "                launching_price = int(launching_price.replace(\",\",\"\")[:-1] )\n",
    "            except : \n",
    "                launching_price = 0     \n",
    "        wish_count = browser.find_element(By.CLASS_NAME, 'wish_count_num').text\n",
    "        if '만' in wish_count:\n",
    "            wish_count = wish_count.replace(\"만\",\"\")\n",
    "            if '.' in wish_count :\n",
    "                wish_count = int(wish_count.replace(\".\",\"\")) * 1000\n",
    "            else :\n",
    "                        wish_count = int(wish_count)*10000\n",
    "        else :\n",
    "            wish_count = int(wish_count.replace(\",\",\"\"))\n",
    "\n",
    "  \n",
    "        print(brand,main_title, sub_title, product_title, recent_price, launching_price ,wish_count)\n",
    "        print()\n",
    "\n",
    "        sql =  \"\"\"INSERT INTO items(brand, product_main_title, product_sub_title, recent_price, launching_price ,wish_count)\n",
    "                VALUES( %s, %s, %s, %s, %s, %s)\"\"\"\n",
    "        \n",
    "        cur.execute(sql, (brand, main_title, sub_title, recent_price, launching_price, wish_count))\n",
    "        conn.commit()\n",
    "        time.sleep(2)\n",
    "\n",
    "\n",
    "# 상세 페이지 이동 후 데이터 크롤링 "
   ]
  },
  {
   "cell_type": "code",
   "execution_count": null,
   "metadata": {},
   "outputs": [],
   "source": []
  }
 ],
 "metadata": {
  "kernelspec": {
   "display_name": "Python 3",
   "language": "python",
   "name": "python3"
  },
  "language_info": {
   "codemirror_mode": {
    "name": "ipython",
    "version": 3
   },
   "file_extension": ".py",
   "mimetype": "text/x-python",
   "name": "python",
   "nbconvert_exporter": "python",
   "pygments_lexer": "ipython3",
   "version": "3.12.1"
  }
 },
 "nbformat": 4,
 "nbformat_minor": 2
}
