{
 "cells": [
  {
   "cell_type": "markdown",
   "metadata": {},
   "source": [
    "예스 24 크롤링"
   ]
  },
  {
   "cell_type": "code",
   "execution_count": 2,
   "metadata": {},
   "outputs": [
    {
     "data": {
      "text/plain": [
       "'/Users/haunpapa/.wdm/drivers/chromedriver/mac64/121.0.6167.85/chromedriver-mac-x64/chromedriver'"
      ]
     },
     "execution_count": 2,
     "metadata": {},
     "output_type": "execute_result"
    }
   ],
   "source": [
    "from webdriver_manager.chrome import ChromeDriverManager\n",
    "ChromeDriverManager().install()\n"
   ]
  },
  {
   "cell_type": "code",
   "execution_count": 56,
   "metadata": {},
   "outputs": [],
   "source": [
    "from selenium import webdriver\n",
    "from selenium.webdriver.chrome.options import Options\n",
    "from selenium.webdriver.common.by import By\n",
    "from selenium.webdriver.common.keys import Keys\n",
    "from bs4 import BeautifulSoup\n",
    "import time\n",
    "browser = webdriver.Chrome()\n",
    "\n",
    "\n"
   ]
  },
  {
   "cell_type": "code",
   "execution_count": 57,
   "metadata": {},
   "outputs": [],
   "source": [
    "url = 'https://kream.co.kr/?tab=home_ranking'\n",
    "browser.get(url)"
   ]
  },
  {
   "cell_type": "code",
   "execution_count": 58,
   "metadata": {},
   "outputs": [
    {
     "name": "stdout",
     "output_type": "stream",
     "text": [
      "['/products/198153', '/products/154869', '/products/169622', '/products/89214', '/products/168679', '/products/67945', '/products/188494', '/products/67233', '/products/22181', '/products/171941', '/products/101838', '/products/44249', '/products/204286', '/products/233501', '/products/193788', '/products/111746', '/products/173409', '/products/117979', '/products/209171', '/products/107607', '/products/111525', '/products/146207', '/products/230471', '/products/28229', '/products/98429', '/products/170140', '/products/61862', '/products/29370', '/products/223707', '/products/25469', '/products/118745', '/products/113801', '/products/170231', '/products/24137', '/products/96479', '/products/171951', '/products/45883', '/products/178937', '/products/218822', '/products/52937', '/products/82788', '/products/98441', '/products/120286', '/products/210098', '/products/86011', '/products/202031', '/products/216183', '/products/186921', '/products/178942', '/products/13494', '/products/216340', '/products/74712', '/products/173737', '/products/234823', '/products/61808', '/products/74130', '/products/70910', '/products/114729', '/products/120449', '/products/36753', '/products/79358', '/products/144577', '/products/190334', '/products/230322', '/products/164902', '/products/64448', '/products/168701', '/products/114671', '/products/96172', '/products/117346', '/products/130348', '/products/170621', '/products/113639', '/products/38597', '/products/206329', '/products/187442', '/products/137797', '/products/184786', '/products/167119', '/products/23509', '/products/225582', '/products/65775', '/products/55712', '/products/204509', '/products/153000', '/products/215023', '/products/57456', '/products/176653', '/products/41205', '/products/217886', '/products/84752', '/products/26734', '/products/57580', '/products/219459', '/products/117344', '/products/66326', '/products/105687', '/products/100362', '/products/168819', '/products/216889']\n"
     ]
    }
   ],
   "source": [
    "html = browser.page_source\n",
    "soup = BeautifulSoup(html,'html.parser')\n",
    "datas = soup.select(\".product_list.list_first.vertical_product_collection\")\n",
    "\n",
    "import time\n",
    "\n",
    "href_list =[]\n",
    "\n",
    "for data in datas:\n",
    "    links = data.select('a')\n",
    "    for link in links:\n",
    "        href = link['href']\n",
    "        href_list.append(href)\n",
    "\n",
    "print(href_list)\n",
    "\n",
    "\n"
   ]
  },
  {
   "cell_type": "code",
   "execution_count": 123,
   "metadata": {},
   "outputs": [
    {
     "name": "stdout",
     "output_type": "stream",
     "text": [
      "28000\n",
      "<class 'int'>\n"
     ]
    }
   ],
   "source": [
    "browser.get(f'https://kream.co.kr{href_list[5]}')\n",
    "\n",
    "brand = browser.find_element(By.CLASS_NAME, 'product-branding-feed-container').find_element(By.CLASS_NAME, 'title-text.display_paragraph.action_url').text\n",
    "main_title = browser.find_element(By.CLASS_NAME, 'main-title-container').find_element(By.CLASS_NAME, 'title').text\n",
    "sub_title = browser.find_element(By.CLASS_NAME, 'main-title-container').find_element(By.CLASS_NAME, 'sub-title').text\n",
    "product_title = browser.find_element(By.CLASS_NAME, 'detail-product-container').find_elements(By.CLASS_NAME, 'product_info')[1].text\n",
    "recent_price = browser.find_element(By.CLASS_NAME, 'detail-product-container').find_elements(By.CLASS_NAME, 'price-info')[0].text\n",
    "\n",
    "recent_price = int(recent_price.replace(\",\",\"\"))\n",
    "\n",
    "launching_price = browser.find_element(By.CLASS_NAME, 'detail-product-container').find_elements(By.CLASS_NAME, 'product_info')[0].text[:-1]\n",
    "wish_count = browser.find_element(By.CLASS_NAME, 'wish_count_num').text\n",
    "if '만' in wish_count:\n",
    "    wish_count = wish_count.replace(\"만\",\"\")\n",
    "    if '.' in wish_count :\n",
    "        wish_count = int(wish_count.replace(\".\",\"\")) * 1000\n",
    "    else :\n",
    "        wish_count = int(wish_count)*10000\n",
    "  \n",
    "        \n",
    "print(wish_count)\n",
    "print(type(wish_count))\n",
    "\n"
   ]
  },
  {
   "cell_type": "code",
   "execution_count": 8,
   "metadata": {},
   "outputs": [
    {
     "name": "stdout",
     "output_type": "stream",
     "text": [
      "6.8 20\n"
     ]
    }
   ],
   "source": [
    "try :\n",
    "     rating = browser.find_element(By.CLASS_NAME, 'gd_lnkRate').find_element(By.CLASS_NAME, 'yes_b').text\n",
    "except : \n",
    "     rating = 0 \n",
    "\n",
    "try :\n",
    "     review = browser.find_element(By.CLASS_NAME, 'gd_reviewCount').find_element(By.CLASS_NAME, 'txC_blue').text\n",
    "except :\n",
    "     review = 0\n",
    "\n",
    "print(rating, review)\n",
    "\n",
    "\n"
   ]
  },
  {
   "cell_type": "code",
   "execution_count": 129,
   "metadata": {},
   "outputs": [
    {
     "name": "stdout",
     "output_type": "stream",
     "text": [
      "Apple Apple Apple Pencil USB-C (Korean Ver.) 애플 펜슬 USB-C (국내 정식 발매 제품) MUWA3KH/A 119000 119000 116\n",
      "\n",
      "Adidas Adidas Gazelle Indoor Collegiate Burgundy Arctic Fuchsia 아디다스 가젤 인도어 컬리지에이트 버건디 아크틱 푸시아 IG4996 259000 169000 2058\n",
      "\n",
      "Nike Nike Club+ Fleece Winterized Crew Neck Particle Grey - Asia 나이키 클럽+ 플리스 윈터라이즈드 크루넥 파티클 그레이 - 아시아 DQ4895-073 56000 89000 329\n",
      "\n",
      "Jordan Jordan 1 High Golf Midnight Navy 조던 1 하이 골프 미드나잇 네이비 DQ0660-100 143000 239000 3917\n",
      "\n",
      "The North Face The North Face White Label Neilton Jacket White Sand 노스페이스 화이트 라벨 닐턴 자켓 화이트 샌드 NJ3BP51L 209000 188000 625\n",
      "\n",
      "Jordan Jordan 1 x Travis Scott Retro Low OG SP Sail and Ridgerock 조던 1 x 트래비스 스캇 레트로 로우 OG SP 세일 앤 리저록 DM7866-162 1371000 189000 28000\n",
      "\n",
      "Nike Nike NSW Solo Swoosh Woven Track Jacket Night Maroon - Asia 나이키 NSW 솔로 스우시 우븐 트랙 자켓 나이트 마룬 - 아시아 FB8623-681 139000 175000 2195\n",
      "\n",
      "Salomon Salomon XA Pro 3D Alloy Silver 살로몬 XA 프로 3D 알로이 실버 L41617500 225000 175000 5293\n",
      "\n",
      "Nike Nike Air Force 1 Low QS Black White 나이키 에어포스 1 로우 QS 블랙 화이트 CQ0492-001 180000 159000 1522\n",
      "\n",
      "Emis Emis Leather Mini Backpack Black 이미스 레더 미니 백팩 블랙 - 66000 63000 1095\n",
      "\n",
      "Nike Nike Air Humara Midnight Navy and Obsidian 나이키 에어 휴마라 미드나잇 네이비 앤 옵시디언 FJ7098-300 111000 189000 2541\n",
      "\n",
      "Nintendo Nintendo Switch OLED White (Korean Ver.) 닌텐도 스위치 OLED 화이트 (국내 정식 발매 제품) HEG-S-KAAAA(KOR) 362000 415000 6816\n",
      "\n"
     ]
    },
    {
     "ename": "ValueError",
     "evalue": "invalid literal for int() with base 10: '$19 (약 25200원'",
     "output_type": "error",
     "traceback": [
      "\u001b[0;31m---------------------------------------------------------------------------\u001b[0m",
      "\u001b[0;31mValueError\u001b[0m                                Traceback (most recent call last)",
      "Cell \u001b[0;32mIn[129], line 29\u001b[0m\n\u001b[1;32m     27\u001b[0m recent_price \u001b[38;5;241m=\u001b[39m \u001b[38;5;28mint\u001b[39m(recent_price\u001b[38;5;241m.\u001b[39mreplace(\u001b[38;5;124m\"\u001b[39m\u001b[38;5;124m,\u001b[39m\u001b[38;5;124m\"\u001b[39m,\u001b[38;5;124m\"\u001b[39m\u001b[38;5;124m\"\u001b[39m))\n\u001b[1;32m     28\u001b[0m launching_price \u001b[38;5;241m=\u001b[39m browser\u001b[38;5;241m.\u001b[39mfind_element(By\u001b[38;5;241m.\u001b[39mCLASS_NAME, \u001b[38;5;124m'\u001b[39m\u001b[38;5;124mdetail-product-container\u001b[39m\u001b[38;5;124m'\u001b[39m)\u001b[38;5;241m.\u001b[39mfind_elements(By\u001b[38;5;241m.\u001b[39mCLASS_NAME, \u001b[38;5;124m'\u001b[39m\u001b[38;5;124mproduct_info\u001b[39m\u001b[38;5;124m'\u001b[39m)[\u001b[38;5;241m0\u001b[39m]\u001b[38;5;241m.\u001b[39mtext[:\u001b[38;5;241m-\u001b[39m\u001b[38;5;241m1\u001b[39m]\n\u001b[0;32m---> 29\u001b[0m launching_price \u001b[38;5;241m=\u001b[39m\u001b[38;5;28;43mint\u001b[39;49m\u001b[43m(\u001b[49m\u001b[43mlaunching_price\u001b[49m\u001b[38;5;241;43m.\u001b[39;49m\u001b[43mreplace\u001b[49m\u001b[43m(\u001b[49m\u001b[38;5;124;43m\"\u001b[39;49m\u001b[38;5;124;43m,\u001b[39;49m\u001b[38;5;124;43m\"\u001b[39;49m\u001b[43m,\u001b[49m\u001b[38;5;124;43m\"\u001b[39;49m\u001b[38;5;124;43m\"\u001b[39;49m\u001b[43m)\u001b[49m\u001b[43m)\u001b[49m\n\u001b[1;32m     30\u001b[0m wish_count \u001b[38;5;241m=\u001b[39m browser\u001b[38;5;241m.\u001b[39mfind_element(By\u001b[38;5;241m.\u001b[39mCLASS_NAME, \u001b[38;5;124m'\u001b[39m\u001b[38;5;124mwish_count_num\u001b[39m\u001b[38;5;124m'\u001b[39m)\u001b[38;5;241m.\u001b[39mtext\n\u001b[1;32m     31\u001b[0m wish_count \u001b[38;5;241m=\u001b[39m browser\u001b[38;5;241m.\u001b[39mfind_element(By\u001b[38;5;241m.\u001b[39mCLASS_NAME, \u001b[38;5;124m'\u001b[39m\u001b[38;5;124mwish_count_num\u001b[39m\u001b[38;5;124m'\u001b[39m)\u001b[38;5;241m.\u001b[39mtext\n",
      "\u001b[0;31mValueError\u001b[0m: invalid literal for int() with base 10: '$19 (약 25200원'"
     ]
    }
   ],
   "source": [
    "# 데이터 베이스 연동후 수집한 데이터 DB에 저장 (csv)\n",
    "import pymysql \n",
    "import re\n",
    "from datetime import datetime\n",
    "\n",
    "\n",
    "conn = pymysql.connect(\n",
    "    host ='localhost',\n",
    "    user = 'root',\n",
    "    password = 'Eotjd0101^^',\n",
    "    db = 'new_project',\n",
    "    charset = 'utf8mb4',\n",
    "    cursorclass = pymysql.cursors.DictCursor\n",
    ")\n",
    "\n",
    "with conn.cursor() as cur :\n",
    "    \n",
    "    for i in href_list:\n",
    "        browser.get(f'https://kream.co.kr{i}')\n",
    "\n",
    "\n",
    "        brand = browser.find_element(By.CLASS_NAME, 'product-branding-feed-container').find_element(By.CLASS_NAME, 'title-text.display_paragraph.action_url').text\n",
    "        main_title = browser.find_element(By.CLASS_NAME, 'main-title-container').find_element(By.CLASS_NAME, 'title').text\n",
    "        sub_title = browser.find_element(By.CLASS_NAME, 'main-title-container').find_element(By.CLASS_NAME, 'sub-title').text\n",
    "        product_title = browser.find_element(By.CLASS_NAME, 'detail-product-container').find_elements(By.CLASS_NAME, 'product_info')[1].text\n",
    "        recent_price = browser.find_element(By.CLASS_NAME, 'detail-product-container').find_elements(By.CLASS_NAME, 'price-info')[0].text\n",
    "        recent_price = int(recent_price.replace(\",\",\"\"))\n",
    "        launching_price = browser.find_element(By.CLASS_NAME, 'detail-product-container').find_elements(By.CLASS_NAME, 'product_info')[0].text[:-1]\n",
    "        launching_price =int(launching_price.replace(\",\",\"\"))\n",
    "        wish_count = browser.find_element(By.CLASS_NAME, 'wish_count_num').text\n",
    "        wish_count = browser.find_element(By.CLASS_NAME, 'wish_count_num').text\n",
    "        if '만' in wish_count:\n",
    "            wish_count = wish_count.replace(\"만\",\"\")\n",
    "            if '.' in wish_count :\n",
    "                wish_count = int(wish_count.replace(\".\",\"\")) * 1000\n",
    "            else :\n",
    "                wish_count = int(wish_count)*10000\n",
    "        else :\n",
    "            wish_count = int(wish_count.replace(\",\",\"\"))\n",
    "  \n",
    "        print(brand,main_title, sub_title, product_title, recent_price, launching_price ,wish_count)\n",
    "        print()\n",
    "\n",
    "        sql =  \"\"\"INSERT INTO items(brand, product_main_title, product_sub_title, recent_price, launching_price ,wish_count)\n",
    "                VALUES( %s, %s, %s, %s, %s, %s)\"\"\"\n",
    "        \n",
    "        cur.execute(sql, (brand, main_title, sub_title, recent_price, launching_price, wish_count))\n",
    "        conn.commit()\n",
    "        time.sleep(2)\n",
    "\n",
    "\n",
    "# 상세 페이지 이동 후 데이터 크롤링 "
   ]
  },
  {
   "cell_type": "code",
   "execution_count": null,
   "metadata": {},
   "outputs": [],
   "source": []
  }
 ],
 "metadata": {
  "kernelspec": {
   "display_name": "Python 3",
   "language": "python",
   "name": "python3"
  },
  "language_info": {
   "codemirror_mode": {
    "name": "ipython",
    "version": 3
   },
   "file_extension": ".py",
   "mimetype": "text/x-python",
   "name": "python",
   "nbconvert_exporter": "python",
   "pygments_lexer": "ipython3",
   "version": "3.12.1"
  }
 },
 "nbformat": 4,
 "nbformat_minor": 2
}
