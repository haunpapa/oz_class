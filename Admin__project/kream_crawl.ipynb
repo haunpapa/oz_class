{
 "cells": [
  {
   "cell_type": "markdown",
   "metadata": {},
   "source": [
    "예스 24 크롤링"
   ]
  },
  {
   "cell_type": "code",
   "execution_count": 1,
   "metadata": {},
   "outputs": [
    {
     "data": {
      "text/plain": [
       "'/Users/haunpapa/.wdm/drivers/chromedriver/mac64/121.0.6167.85/chromedriver-mac-x64/chromedriver'"
      ]
     },
     "execution_count": 1,
     "metadata": {},
     "output_type": "execute_result"
    }
   ],
   "source": [
    "from webdriver_manager.chrome import ChromeDriverManager\n",
    "ChromeDriverManager().install()\n"
   ]
  },
  {
   "cell_type": "code",
   "execution_count": 2,
   "metadata": {},
   "outputs": [],
   "source": [
    "from selenium import webdriver\n",
    "from selenium.webdriver.chrome.options import Options\n",
    "from selenium.webdriver.common.by import By\n",
    "from selenium.webdriver.common.keys import Keys\n",
    "from bs4 import BeautifulSoup\n",
    "import time\n",
    "browser = webdriver.Chrome()\n",
    "\n",
    "\n"
   ]
  },
  {
   "cell_type": "code",
   "execution_count": 3,
   "metadata": {},
   "outputs": [],
   "source": [
    "url = 'https://kream.co.kr/?tab=home_ranking'\n",
    "browser.get(url)"
   ]
  },
  {
   "cell_type": "code",
   "execution_count": 4,
   "metadata": {},
   "outputs": [
    {
     "name": "stdout",
     "output_type": "stream",
     "text": [
      "['/products/198153', '/products/89214', '/products/168679', '/products/169622', '/products/67945', '/products/154869', '/products/67233', '/products/188494', '/products/155834', '/products/171941', '/products/101838', '/products/117979', '/products/44249', '/products/96478', '/products/193788', '/products/113801', '/products/173409', '/products/233501', '/products/107607', '/products/98429', '/products/204286', '/products/111746', '/products/230471', '/products/170140', '/products/61862', '/products/111525', '/products/96344', '/products/28229', '/products/186921', '/products/25469', '/products/52937', '/products/146207', '/products/98441', '/products/178937', '/products/118745', '/products/45883', '/products/170231', '/products/24137', '/products/82788', '/products/36753', '/products/22181', '/products/202031', '/products/107592', '/products/209171', '/products/216340', '/products/171951', '/products/120449', '/products/210098', '/products/114729', '/products/206329', '/products/230322', '/products/178942', '/products/223707', '/products/79358', '/products/164902', '/products/137797', '/products/13494', '/products/61808', '/products/96172', '/products/190334', '/products/97708', '/products/113639', '/products/65775', '/products/57580', '/products/130348', '/products/231515', '/products/38597', '/products/23509', '/products/70910', '/products/114671', '/products/184786', '/products/86011', '/products/117346', '/products/216183', '/products/29370', '/products/96479', '/products/74712', '/products/218822', '/products/176653', '/products/228343', '/products/107597', '/products/144577', '/products/219459', '/products/130347', '/products/109204', '/products/187442', '/products/41205', '/products/170621', '/products/117344', '/products/84752', '/products/60302', '/products/168701', '/products/177956', '/products/69542', '/products/47881', '/products/191466', '/products/92978', '/products/59968', '/products/225582', '/products/78331']\n"
     ]
    }
   ],
   "source": [
    "html = browser.page_source\n",
    "soup = BeautifulSoup(html,'html.parser')\n",
    "datas = soup.select(\".product_list.list_first.vertical_product_collection\")\n",
    "\n",
    "import time\n",
    "\n",
    "href_list =[]\n",
    "\n",
    "for data in datas:\n",
    "    links = data.select('a')\n",
    "    for link in links:\n",
    "        href = link['href']\n",
    "        href_list.append(href)\n",
    "\n",
    "print(href_list)\n",
    "\n",
    "\n"
   ]
  },
  {
   "cell_type": "code",
   "execution_count": null,
   "metadata": {},
   "outputs": [],
   "source": []
  },
  {
   "cell_type": "code",
   "execution_count": 43,
   "metadata": {},
   "outputs": [
    {
     "name": "stdout",
     "output_type": "stream",
     "text": [
      "159000 0\n",
      "<class 'int'>\n",
      "<class 'int'>\n"
     ]
    }
   ],
   "source": [
    "browser.get(f'https://kream.co.kr{href_list[79]}')\n",
    "\n",
    "brand = browser.find_element(By.CLASS_NAME, 'product-branding-feed-container').find_element(By.CLASS_NAME, 'title-text.display_paragraph.action_url').text\n",
    "main_title = browser.find_element(By.CLASS_NAME, 'main-title-container').find_element(By.CLASS_NAME, 'title').text\n",
    "sub_title = browser.find_element(By.CLASS_NAME, 'main-title-container').find_element(By.CLASS_NAME, 'sub-title').text\n",
    "try :\n",
    "    product_title = browser.find_element(By.CLASS_NAME, 'detail-product-container').find_elements(By.CLASS_NAME, 'product_info')[1].text\n",
    "except :\n",
    "    product_title ='-'\n",
    "\n",
    "try :     \n",
    "    recent_price = browser.find_element(By.CLASS_NAME, 'detail-product-container').find_elements(By.CLASS_NAME, 'price-info')[0].text\n",
    "    recent_price = int(recent_price.replace(\",\",\"\"))\n",
    "except :\n",
    "    recent_price =int(browser.find_element(By.CLASS_NAME, 'price.display_paragraph').text.replace(\",\",\"\")[:-1])\n",
    "\n",
    "try :\n",
    "    launching_price = browser.find_element(By.CLASS_NAME, 'detail-product-container').find_elements(By.CLASS_NAME, 'product_info')[0].text.split(\" \")[2][:-2]\n",
    "    launching_price = int(launching_price.replace(\",\",\"\"))\n",
    "except :\n",
    "    try:\n",
    "        launching_price = browser.find_element(By.CLASS_NAME, 'detail-product-container').find_elements(By.CLASS_NAME, 'product_info')[0].text\n",
    "        launching_price = int(launching_price.replace(\",\",\"\")[:-1] )\n",
    "    except : \n",
    "         launching_price = 0     \n",
    "wish_count = browser.find_element(By.CLASS_NAME, 'wish_count_num').text\n",
    "if '만' in wish_count:\n",
    "    wish_count = wish_count.replace(\"만\",\"\")\n",
    "    if '.' in wish_count :\n",
    "         wish_count = int(wish_count.replace(\".\",\"\")) * 1000\n",
    "    else :\n",
    "                wish_count = int(wish_count)*10000\n",
    "else :\n",
    "    wish_count = int(wish_count.replace(\",\",\"\"))\n",
    "\n",
    "  \n",
    "        \n",
    "print(recent_price,launching_price)\n",
    "print(type(recent_price))\n",
    "print(type(launching_price))\n",
    "\n"
   ]
  },
  {
   "cell_type": "code",
   "execution_count": 8,
   "metadata": {},
   "outputs": [
    {
     "name": "stdout",
     "output_type": "stream",
     "text": [
      "6.8 20\n"
     ]
    }
   ],
   "source": [
    "try :\n",
    "     rating = browser.find_element(By.CLASS_NAME, 'gd_lnkRate').find_element(By.CLASS_NAME, 'yes_b').text\n",
    "except : \n",
    "     rating = 0 \n",
    "\n",
    "try :\n",
    "     review = browser.find_element(By.CLASS_NAME, 'gd_reviewCount').find_element(By.CLASS_NAME, 'txC_blue').text\n",
    "except :\n",
    "     review = 0\n",
    "\n",
    "print(rating, review)\n",
    "\n",
    "\n"
   ]
  },
  {
   "cell_type": "code",
   "execution_count": null,
   "metadata": {},
   "outputs": [],
   "source": [
    "# 데이터 베이스 연동후 수집한 데이터 DB에 저장 (csv)\n",
    "import pymysql \n",
    "import re\n",
    "from datetime import datetime\n",
    "\n",
    "\n",
    "conn = pymysql.connect(\n",
    "    host ='localhost',\n",
    "    user = 'root',\n",
    "    password = 'Eotjd0101^^',\n",
    "    db = 'new_project',\n",
    "    charset = 'utf8mb4',\n",
    "    cursorclass = pymysql.cursors.DictCursor\n",
    ")\n",
    "\n",
    "with conn.cursor() as cur :\n",
    "    \n",
    "    for i in href_list:\n",
    "        browser.get(f'https://kream.co.kr{i}')\n",
    "\n",
    "\n",
    "        brand = browser.find_element(By.CLASS_NAME, 'product-branding-feed-container').find_element(By.CLASS_NAME, 'title-text.display_paragraph.action_url').text\n",
    "        main_title = browser.find_element(By.CLASS_NAME, 'main-title-container').find_element(By.CLASS_NAME, 'title').text\n",
    "        sub_title = browser.find_element(By.CLASS_NAME, 'main-title-container').find_element(By.CLASS_NAME, 'sub-title').text\n",
    "        try :\n",
    "            product_title = browser.find_element(By.CLASS_NAME, 'detail-product-container').find_elements(By.CLASS_NAME, 'product_info')[1].text\n",
    "        except :\n",
    "            product_title ='-'\n",
    "\n",
    "        try :     \n",
    "            recent_price = browser.find_element(By.CLASS_NAME, 'detail-product-container').find_elements(By.CLASS_NAME, 'price-info')[0].text\n",
    "            recent_price = int(recent_price.replace(\",\",\"\"))\n",
    "        except :\n",
    "            recent_price =int(browser.find_element(By.CLASS_NAME, 'price.display_paragraph').text.replace(\",\",\"\")[:-1])\n",
    "\n",
    "        try :\n",
    "            launching_price = browser.find_element(By.CLASS_NAME, 'detail-product-container').find_elements(By.CLASS_NAME, 'product_info')[0].text.split(\" \")[2][:-2]\n",
    "            launching_price = int(launching_price.replace(\",\",\"\"))\n",
    "        except :\n",
    "            try:\n",
    "                launching_price = browser.find_element(By.CLASS_NAME, 'detail-product-container').find_elements(By.CLASS_NAME, 'product_info')[0].text\n",
    "                launching_price = int(launching_price.replace(\",\",\"\")[:-1] )\n",
    "            except : \n",
    "                launching_price = 0     \n",
    "        wish_count = browser.find_element(By.CLASS_NAME, 'wish_count_num').text\n",
    "        if '만' in wish_count:\n",
    "            wish_count = wish_count.replace(\"만\",\"\")\n",
    "            if '.' in wish_count :\n",
    "                wish_count = int(wish_count.replace(\".\",\"\")) * 1000\n",
    "            else :\n",
    "                        wish_count = int(wish_count)*10000\n",
    "        else :\n",
    "            wish_count = int(wish_count.replace(\",\",\"\"))\n",
    "\n",
    "  \n",
    "        print(brand,main_title, sub_title, product_title, recent_price, launching_price ,wish_count)\n",
    "        print()\n",
    "\n",
    "        sql =  \"\"\"INSERT INTO items(brand, product_main_title, product_sub_title, recent_price, launching_price ,wish_count)\n",
    "                VALUES( %s, %s, %s, %s, %s, %s)\"\"\"\n",
    "        \n",
    "        cur.execute(sql, (brand, main_title, sub_title, recent_price, launching_price, wish_count))\n",
    "        conn.commit()\n",
    "        time.sleep(2)"
   ]
  },
  {
   "cell_type": "code",
   "execution_count": null,
   "metadata": {},
   "outputs": [],
   "source": []
  }
 ],
 "metadata": {
  "kernelspec": {
   "display_name": "Python 3",
   "language": "python",
   "name": "python3"
  },
  "language_info": {
   "codemirror_mode": {
    "name": "ipython",
    "version": 3
   },
   "file_extension": ".py",
   "mimetype": "text/x-python",
   "name": "python",
   "nbconvert_exporter": "python",
   "pygments_lexer": "ipython3",
   "version": "3.12.1"
  }
 },
 "nbformat": 4,
 "nbformat_minor": 2
}
