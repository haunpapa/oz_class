{
 "cells": [
  {
   "cell_type": "markdown",
   "metadata": {},
   "source": [
    "예스 24 크롤링"
   ]
  },
  {
   "cell_type": "code",
   "execution_count": 16,
   "metadata": {},
   "outputs": [
    {
     "data": {
      "text/plain": [
       "'/Users/haunpapa/.wdm/drivers/chromedriver/mac64/121.0.6167.85/chromedriver-mac-x64/chromedriver'"
      ]
     },
     "execution_count": 16,
     "metadata": {},
     "output_type": "execute_result"
    }
   ],
   "source": [
    "from webdriver_manager.chrome import ChromeDriverManager\n",
    "ChromeDriverManager().install()\n"
   ]
  },
  {
   "cell_type": "code",
   "execution_count": 17,
   "metadata": {},
   "outputs": [],
   "source": [
    "from selenium import webdriver\n",
    "browser = webdriver.Chrome()\n",
    "\n",
    "from selenium.webdriver.common.by import By\n",
    "\n"
   ]
  },
  {
   "cell_type": "code",
   "execution_count": 18,
   "metadata": {},
   "outputs": [],
   "source": [
    "url = 'https://www.yes24.com/Product/Category/BestSeller?categoryNumber=001&pageNumber=1&pageSize=24'\n",
    "browser.get(url)"
   ]
  },
  {
   "cell_type": "code",
   "execution_count": 25,
   "metadata": {},
   "outputs": [
    {
     "name": "stdout",
     "output_type": "stream",
     "text": [
      "https://www.yes24.com/Product/Goods/122120495\n",
      "https://www.yes24.com/Product/Goods/123675187\n",
      "https://www.yes24.com/Product/Goods/117014613\n",
      "https://www.yes24.com/Product/Goods/124043812\n",
      "https://www.yes24.com/Product/Goods/124702623\n",
      "https://www.yes24.com/Product/Goods/124043802\n",
      "https://www.yes24.com/Product/Goods/122090360\n",
      "https://www.yes24.com/Product/Goods/123400303\n",
      "https://www.yes24.com/Product/Goods/122944685\n",
      "https://www.yes24.com/Product/Goods/118579613\n",
      "https://www.yes24.com/Product/Goods/124539805\n",
      "https://www.yes24.com/Product/Goods/124112599\n",
      "https://www.yes24.com/Product/Goods/122428190\n",
      "https://www.yes24.com/Product/Goods/118413014\n",
      "https://www.yes24.com/Product/Goods/119458052\n",
      "https://www.yes24.com/Product/Goods/119562091\n",
      "https://www.yes24.com/Product/Goods/124702605\n",
      "https://www.yes24.com/Product/Goods/124501342\n",
      "https://www.yes24.com/Product/Goods/124849202\n",
      "https://www.yes24.com/Product/Goods/119120517\n",
      "https://www.yes24.com/Product/Goods/124707232\n",
      "https://www.yes24.com/Product/Goods/79297023\n",
      "https://www.yes24.com/Product/Goods/124574394\n",
      "https://www.yes24.com/Product/Goods/124408170\n"
     ]
    }
   ],
   "source": [
    "# 1페이지의 링크 데이터 수집 \n",
    "## 한 개의 베스트셀러 링크 수집\n",
    "browser.find_element(By.CLASS_NAME, 'gd_name').get_attribute('href') # 요소\n",
    "datas = browser.find_elements(By.CLASS_NAME, 'gd_name') # 리스트\n",
    "\n",
    "for i in datas :\n",
    "    print(i.get_attribute('href'))"
   ]
  },
  {
   "cell_type": "code",
   "execution_count": 100,
   "metadata": {},
   "outputs": [],
   "source": [
    "# 3페이지까지의 링크 데이터 수집\n",
    "import time\n",
    "\n",
    "link_list = []\n",
    "for i in range(1,4):\n",
    "    url =f'https://www.yes24.com/Product/Category/DayBestSeller?categoryNumber=001&pageNumber={i}&pageSize=24&type=day&saleDts='\n",
    "    browser.get(url)\n",
    "    browser.find_element(By.CLASS_NAME, 'gd_name').get_attribute('href') # 요소\n",
    "    datas = browser.find_elements(By.CLASS_NAME, 'gd_name') # 리스트\n",
    "\n",
    "    for i in datas :\n",
    "        link = i.get_attribute('href')\n",
    "        link_list.append(link)\n",
    "\n",
    "    time.sleep(3)\n",
    "\n",
    "\n",
    "    "
   ]
  },
  {
   "cell_type": "code",
   "execution_count": 101,
   "metadata": {},
   "outputs": [
    {
     "data": {
      "text/plain": [
       "['https://www.yes24.com/Product/Goods/123675187',\n",
       " 'https://www.yes24.com/Product/Goods/117014613',\n",
       " 'https://www.yes24.com/Product/Goods/122120495',\n",
       " 'https://www.yes24.com/Product/Goods/124043812',\n",
       " 'https://www.yes24.com/Product/Goods/124043802',\n",
       " 'https://www.yes24.com/Product/Goods/124702605',\n",
       " 'https://www.yes24.com/Product/Goods/122090360',\n",
       " 'https://www.yes24.com/Product/Goods/123400303',\n",
       " 'https://www.yes24.com/Product/Goods/118413014',\n",
       " 'https://www.yes24.com/Product/Goods/124702623',\n",
       " 'https://www.yes24.com/Product/Goods/124112599',\n",
       " 'https://www.yes24.com/Product/Goods/118579613',\n",
       " 'https://www.yes24.com/Product/Goods/124539805',\n",
       " 'https://www.yes24.com/Product/Goods/124849202',\n",
       " 'https://www.yes24.com/Product/Goods/119458052',\n",
       " 'https://www.yes24.com/Product/Goods/124707232',\n",
       " 'https://www.yes24.com/Product/Goods/122944685',\n",
       " 'https://www.yes24.com/Product/Goods/124301348',\n",
       " 'https://www.yes24.com/Product/Goods/124501342',\n",
       " 'https://www.yes24.com/Product/Goods/96072143',\n",
       " 'https://www.yes24.com/Product/Goods/124716172',\n",
       " 'https://www.yes24.com/Product/Goods/122428190',\n",
       " 'https://www.yes24.com/Product/Goods/124397623',\n",
       " 'https://www.yes24.com/Product/Goods/119120517',\n",
       " 'https://www.yes24.com/Product/Goods/119562091',\n",
       " 'https://www.yes24.com/Product/Goods/124127709',\n",
       " 'https://www.yes24.com/Product/Goods/123318244',\n",
       " 'https://www.yes24.com/Product/Goods/79297023',\n",
       " 'https://www.yes24.com/Product/Goods/79208821',\n",
       " 'https://www.yes24.com/Product/Goods/124644662',\n",
       " 'https://www.yes24.com/Product/Goods/121911671',\n",
       " 'https://www.yes24.com/Product/Goods/9349031',\n",
       " 'https://www.yes24.com/Product/Goods/124472691',\n",
       " 'https://www.yes24.com/Product/Goods/124213903',\n",
       " 'https://www.yes24.com/Product/Goods/90428162',\n",
       " 'https://www.yes24.com/Product/Goods/124472824',\n",
       " 'https://www.yes24.com/Product/Goods/124014108',\n",
       " 'https://www.yes24.com/Product/Goods/122880691',\n",
       " 'https://www.yes24.com/Product/Goods/124807552',\n",
       " 'https://www.yes24.com/Product/Goods/122433629',\n",
       " 'https://www.yes24.com/Product/Goods/124865526',\n",
       " 'https://www.yes24.com/Product/Goods/122426425',\n",
       " 'https://www.yes24.com/Product/Goods/91901557',\n",
       " 'https://www.yes24.com/Product/Goods/124408170',\n",
       " 'https://www.yes24.com/Product/Goods/8759796',\n",
       " 'https://www.yes24.com/Product/Goods/119243875',\n",
       " 'https://www.yes24.com/Product/Goods/118569079',\n",
       " 'https://www.yes24.com/Product/Goods/116467955',\n",
       " 'https://www.yes24.com/Product/Goods/58774995',\n",
       " 'https://www.yes24.com/Product/Goods/124574394',\n",
       " 'https://www.yes24.com/Product/Goods/123930880',\n",
       " 'https://www.yes24.com/Product/Goods/124106975',\n",
       " 'https://www.yes24.com/Product/Goods/123930891',\n",
       " 'https://www.yes24.com/Product/Goods/91868954',\n",
       " 'https://www.yes24.com/Product/Goods/123876440',\n",
       " 'https://www.yes24.com/Product/Goods/37533966',\n",
       " 'https://www.yes24.com/Product/Goods/96794060',\n",
       " 'https://www.yes24.com/Product/Goods/104086365',\n",
       " 'https://www.yes24.com/Product/Goods/2312211',\n",
       " 'https://www.yes24.com/Product/Goods/124623958',\n",
       " 'https://www.yes24.com/Product/Goods/67362730',\n",
       " 'https://www.yes24.com/Product/Goods/124628440',\n",
       " 'https://www.yes24.com/Product/Goods/124106985',\n",
       " 'https://www.yes24.com/Product/Goods/123676271',\n",
       " 'https://www.yes24.com/Product/Goods/106369008',\n",
       " 'https://www.yes24.com/Product/Goods/124733569',\n",
       " 'https://www.yes24.com/Product/Goods/124315134',\n",
       " 'https://www.yes24.com/Product/Goods/123623040',\n",
       " 'https://www.yes24.com/Product/Goods/121576038',\n",
       " 'https://www.yes24.com/Product/Goods/102502665',\n",
       " 'https://www.yes24.com/Product/Goods/91182587',\n",
       " 'https://www.yes24.com/Product/Goods/124644663']"
      ]
     },
     "execution_count": 101,
     "metadata": {},
     "output_type": "execute_result"
    }
   ],
   "source": [
    "link_list"
   ]
  },
  {
   "cell_type": "code",
   "execution_count": 117,
   "metadata": {},
   "outputs": [],
   "source": [
    "browser.get(link_list[0])\n",
    "\n",
    "title = browser.find_element(By.CLASS_NAME, 'gd_name').text\n",
    "author = browser.find_element(By.CLASS_NAME, 'gd_auth').text\n",
    "publisher = browser.find_element(By.CLASS_NAME, 'gd_pub').text\n",
    "publishing = browser.find_element(By.CLASS_NAME, 'gd_date').text\n",
    "rating = browser.find_element(By.CLASS_NAME, 'yes_b').text\n",
    "reviews = browser.find_element(By.CLASS_NAME, 'txC_blue').text\n",
    "sales = browser.find_element(By.CLASS_NAME, 'gd_sellNum').text.split()[2]\n",
    "price = browser.find_element(By.CLASS_NAME, 'yes_m').text[:-1]\n",
    "ranking = browser.find_element(By.CLASS_NAME, 'gd_best').find_element(By.TAG_NAME, 'a').text\n",
    "ranking_weeks = browser.find_element(By.CLASS_NAME, 'gd_best').text.split(\"|\")[1]\n",
    "\n"
   ]
  },
  {
   "cell_type": "code",
   "execution_count": 148,
   "metadata": {},
   "outputs": [
    {
     "name": "stdout",
     "output_type": "stream",
     "text": [
      "10.0 7\n"
     ]
    }
   ],
   "source": [
    "try :\n",
    "     rating = browser.find_element(By.CLASS_NAME, 'gd_lnkRate').find_element(By.CLASS_NAME, 'yes_b').text\n",
    "except : \n",
    "     rating = 0 \n",
    "\n",
    "try :\n",
    "     review = browser.find_element(By.CLASS_NAME, 'gd_reviewCount').find_element(By.CLASS_NAME, 'txC_blue').text\n",
    "except :\n",
    "     review = 0\n",
    "\n",
    "print(rating, review)\n",
    "\n",
    "\n"
   ]
  },
  {
   "cell_type": "code",
   "execution_count": 149,
   "metadata": {},
   "outputs": [],
   "source": [
    "# 데이터 베이스 연동후 수집한 데이터 DB에 저장 (csv)\n",
    "import pymysql \n",
    "import re\n",
    "from datetime import datetime\n",
    "\n",
    "\n",
    "conn = pymysql.connect(\n",
    "    host ='localhost',\n",
    "    user = 'root',\n",
    "    password = 'Eotjd0101^^',\n",
    "    db = 'mini',\n",
    "    charset = 'utf8mb4',\n",
    "    cursorclass = pymysql.cursors.DictCursor\n",
    ")\n",
    "\n",
    "with conn.cursor() as cur :\n",
    "    \n",
    "    for i in link_list:\n",
    "        browser.get(i)\n",
    "\n",
    "\n",
    "        title = browser.find_element(By.CLASS_NAME, 'gd_name').text\n",
    "        author = browser.find_element(By.CLASS_NAME, 'gd_auth').text\n",
    "        publisher = browser.find_element(By.CLASS_NAME, 'gd_pub').text\n",
    "        publishing = browser.find_element(By.CLASS_NAME, 'gd_date').text\n",
    "\n",
    "        match = re.search(r'(\\d+)년 (\\d+)월 (\\d+)일', publishing)\n",
    "        if match :\n",
    "            year, month, day = match.groups()\n",
    "            data_obj = datetime(int(year), int(month), int(day))\n",
    "            publishing = data_obj.strftime(\"%Y-%m-%d\")\n",
    "        else:\n",
    "            publishing = \"2023-01-01\"\n",
    "            \n",
    "        try :\n",
    "            rating = browser.find_element(By.CLASS_NAME, 'gd_lnkRate').find_element(By.CLASS_NAME, 'yes_b').text\n",
    "        except : \n",
    "            rating = 0 \n",
    "\n",
    "        try :\n",
    "            review = browser.find_element(By.CLASS_NAME, 'gd_reviewCount').find_element(By.CLASS_NAME, 'txC_blue').text\n",
    "            review = int(review.replace(\",\",\"\"))\n",
    "        except :\n",
    "            review = 0\n",
    "\n",
    "        sales = browser.find_element(By.CLASS_NAME, 'gd_sellNum').text.split()[2]\n",
    "        sales = int(sales.replace(\",\",\"\"))\n",
    "\n",
    "        price = browser.find_element(By.CLASS_NAME, 'yes_m').text[:-1]\n",
    "        price = int(price.replace(\",\",\"\"))\n",
    "\n",
    "        full_text = browser.find_element(By.CLASS_NAME, 'gd_best').text\n",
    "        parts = full_text.split(\" | \")\n",
    "\n",
    "        if len(parts) == 1:\n",
    "            ranking = 0 \n",
    "            ranking_weeks = 0\n",
    "        else :\n",
    "            try :\n",
    "                ranking_part = parts[0]\n",
    "                ranking = ''.join(filter(str.isdigit, ranking_part))\n",
    "            except :\n",
    "                ranking = 0\n",
    "\n",
    "            try : \n",
    "                ranking_weeks_part = parts[1]\n",
    "                ranking_weeks = ''.join(filter(str.isdigit, ranking_weeks_part.split()[-1]))\n",
    "            except :\n",
    "                ranking_weeks = 0  \n",
    "\n",
    "        sql =  \"\"\"INSERT INTO Books(title, author, publisher, publishing, \n",
    "                rating, review, sales, price, ranking, ranking_weeks)\n",
    "                VALUES( %s, %s, %s, %s, %s, %s, %s, %s, %s, %s)\"\"\"\n",
    "        \n",
    "        cur.execute(sql, (title, author, publisher, publishing, rating, review, sales, price, ranking, ranking_weeks))\n",
    "        conn.commit()\n",
    "        time.sleep(2)\n",
    "\n",
    "\n",
    "# 상세 페이지 이동 후 데이터 크롤링 \n",
    "\n",
    " ,ㅜ"
   ]
  },
  {
   "cell_type": "code",
   "execution_count": null,
   "metadata": {},
   "outputs": [],
   "source": []
  }
 ],
 "metadata": {
  "kernelspec": {
   "display_name": "Python 3",
   "language": "python",
   "name": "python3"
  },
  "language_info": {
   "codemirror_mode": {
    "name": "ipython",
    "version": 3
   },
   "file_extension": ".py",
   "mimetype": "text/x-python",
   "name": "python",
   "nbconvert_exporter": "python",
   "pygments_lexer": "ipython3",
   "version": "3.12.1"
  }
 },
 "nbformat": 4,
 "nbformat_minor": 2
}
